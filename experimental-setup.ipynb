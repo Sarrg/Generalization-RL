{
 "cells": [
  {
   "cell_type": "code",
   "execution_count": 34,
   "metadata": {},
   "outputs": [],
   "source": [
    "%matplotlib inline\n",
    "\n",
    "# PyTorch imports\n",
    "import torch\n",
    "import torch.optim as optim\n",
    "import torch.nn as nn\n",
    "import torch.nn.functional as F\n",
    "from torch.utils.data import Dataset, DataLoader\n",
    "from torch.distributions import Categorical\n",
    "from torch.utils.data.sampler import BatchSampler, SubsetRandomSampler\n",
    "from torchvision.transforms import Compose, ToTensor, Grayscale, ToPILImage\n",
    "#import onnx\n",
    "#from torch.utils.data.sampler import BatchSampler, SubsetRandomSampler\n",
    "#from onnx2pytorch import ConvertModel\n",
    "\n",
    "# Auxiliary Python imports\n",
    "import numpy as np\n",
    "import pickle as pkl\n",
    "import bz2\n",
    "from tqdm.notebook import tqdm\n",
    "import matplotlib.pyplot as plt\n",
    "from matplotlib import colors\n",
    "from collections import namedtuple\n",
    "\n",
    "## Gym imports\n",
    "import gym\n",
    "import gym_jumping_task"
   ]
  },
  {
   "cell_type": "code",
   "execution_count": 4,
   "metadata": {},
   "outputs": [
    {
     "name": "stdout",
     "output_type": "stream",
     "text": [
      "cpu\n"
     ]
    }
   ],
   "source": [
    "device = torch.device(\"cuda\" if torch.cuda.is_available() else \"cpu\")\n",
    "print(device)"
   ]
  },
  {
   "cell_type": "markdown",
   "metadata": {},
   "source": [
    "## Testing the environment"
   ]
  },
  {
   "cell_type": "code",
   "execution_count": 5,
   "metadata": {},
   "outputs": [
    {
     "name": "stderr",
     "output_type": "stream",
     "text": [
      "c:\\Users\\Sarrg\\anaconda3\\lib\\site-packages\\gym\\utils\\passive_env_checker.py:31: UserWarning: \u001b[33mWARN: A Box observation space has an unconventional shape (neither an image, nor a 1D vector). We recommend flattening the observation to have only a 1D vector or use a custom policy to properly process the data. Actual observation shape: (60, 60)\u001b[0m\n",
      "  logger.warn(\n"
     ]
    }
   ],
   "source": [
    "gym.make('jumping-task-v0')\n",
    "env = gym_jumping_task.envs.JumpTaskEnv()\n",
    "ACTION_SPACE = env.nb_actions\n",
    "floor_height = 10\n",
    "obstacle_pos = 30\n",
    "state = env._reset(floor_height=floor_height, obstacle_position=obstacle_pos)"
   ]
  },
  {
   "cell_type": "code",
   "execution_count": 6,
   "metadata": {},
   "outputs": [
    {
     "name": "stdout",
     "output_type": "stream",
     "text": [
      "(60, 60)\n"
     ]
    }
   ],
   "source": [
    "print(state.shape)"
   ]
  },
  {
   "cell_type": "code",
   "execution_count": 7,
   "metadata": {},
   "outputs": [
    {
     "data": {
      "text/plain": [
       "<matplotlib.image.AxesImage at 0x1c9d7ff8910>"
      ]
     },
     "execution_count": 7,
     "metadata": {},
     "output_type": "execute_result"
    },
    {
     "data": {
      "image/png": "[encoded data removed]",
      "text/plain": [
       "<Figure size 640x480 with 1 Axes>"
      ]
     },
     "metadata": {},
     "output_type": "display_data"
    }
   ],
   "source": [
    "plt.axis('off')\n",
    "plt.imshow(state, cmap='gray', origin='lower')"
   ]
  },
  {
   "cell_type": "markdown",
   "metadata": {},
   "source": [
    "## Define Expert policy"
   ]
  },
  {
   "cell_type": "code",
   "execution_count": 8,
   "metadata": {},
   "outputs": [],
   "source": [
    "class Expert():\n",
    "    def __init__(self, env: gym_jumping_task.envs.JumpTaskEnv):\n",
    "        self.env = env\n",
    "    \n",
    "    def select_action(self, state=None):\n",
    "        if self.env.agent_pos_x + 14 == self.env.obstacle_position:\n",
    "            return 1\n",
    "        return 0"
   ]
  },
  {
   "cell_type": "code",
   "execution_count": 9,
   "metadata": {},
   "outputs": [
    {
     "name": "stdout",
     "output_type": "stream",
     "text": [
      "Score: 57\n",
      "Game Won\n"
     ]
    },
    {
     "data": {
      "image/png": "[encoded data removed]",
      "text/plain": [
       "<Figure size 640x480 with 1 Axes>"
      ]
     },
     "metadata": {},
     "output_type": "display_data"
    }
   ],
   "source": [
    "env.reset()\n",
    "expert = Expert(env)\n",
    "done = False\n",
    "score = 0\n",
    "while not done:\n",
    "    a = expert.select_action()\n",
    "    state, reward, done, _ = env.step(a)\n",
    "    score += reward\n",
    "print(\"Score:\", score)\n",
    "print(\"Game\", \"Won\" if reward == 2 else \"Lost\")\n",
    "plt.axis('off')\n",
    "plt.imshow(state, cmap='gray', origin='lower')\n",
    "plt.show()"
   ]
  },
  {
   "cell_type": "markdown",
   "metadata": {},
   "source": [
    "## Generate and store demonstrations played by the expert"
   ]
  },
  {
   "cell_type": "code",
   "execution_count": 10,
   "metadata": {},
   "outputs": [],
   "source": [
    "#Transition = namedtuple('Transition', ['state', 'action', 'rewards', 'next_state', 'done'])\n",
    "Transition = namedtuple('Transition', ['state', 'action'])\n",
    "\n",
    "class Episode(object):\n",
    "    def __init__(self):\n",
    "        self.transitions = []\n",
    "        \n",
    "    def __len__(self):\n",
    "        return len(self.transitions)\n",
    "    \n",
    "    def append(self, transition):\n",
    "        self.transition.append(transition)\n",
    "        \n",
    "    def __getitem__(self, index):\n",
    "        return self.transitions[index]\n",
    "\n",
    "\n",
    "class ReplayBuffer(object):\n",
    "    def __init__(self, capacity=0):\n",
    "        self.buffer = []\n",
    "        self._next = 0\n",
    "        self.capacity = capacity\n",
    "    \n",
    "    def __len__(self):\n",
    "        return len(self.buffer)\n",
    "    \n",
    "    def __getitem__(self, index):\n",
    "        return self.buffer[index]\n",
    "    \n",
    "    def add(self, episode):\n",
    "        if self.capacity != 0 and len(self) == self.capacity:\n",
    "            self.buffer[self._next] = episode\n",
    "            self._next = (self._next+1)%self.capacity\n",
    "        else:\n",
    "            self.buffer.extend(episode)\n",
    "        \n",
    "    def save(self, path):\n",
    "        with bz2.open(path, \"wb\") as f:\n",
    "            f.write(pkl.dumps(self.buffer))\n",
    "    \n",
    "    def load(self, path):\n",
    "        with bz2.open(path, \"rb\") as f:\n",
    "            self.buffer = pkl.loads(f.read())\n"
   ]
  },
  {
   "cell_type": "code",
   "execution_count": 11,
   "metadata": {},
   "outputs": [
    {
     "data": {
      "application/vnd.jupyter.widget-view+json": {
       "model_id": "a197252c308f413cbbacee29e7eb60f0",
       "version_major": 2,
       "version_minor": 0
      },
      "text/plain": [
       "  0%|          | 0/250 [00:00<?, ?it/s]"
      ]
     },
     "metadata": {},
     "output_type": "display_data"
    },
    {
     "name": "stdout",
     "output_type": "stream",
     "text": [
      "Transitions: 14000\n"
     ]
    }
   ],
   "source": [
    "n_episodes = 250\n",
    "\n",
    "env = gym_jumping_task.envs.JumpTaskEnv()\n",
    "expert = Expert(env)\n",
    "buffer = ReplayBuffer()\n",
    "for e in tqdm(range(n_episodes)):\n",
    "    episode = []\n",
    "    env.reset()\n",
    "    done = False\n",
    "    while not done:\n",
    "        a = expert.select_action()\n",
    "        episode.append(Transition(state, a))\n",
    "        state, reward, done, _ = env.step(a)\n",
    "    if reward == -1:\n",
    "        print(\"[WARN] GAME LOST\")\n",
    "    buffer.add(episode)\n",
    "#buffer.save(\"demonstrations.bz2\")\n",
    "print(\"Transitions:\", len(buffer))"
   ]
  },
  {
   "cell_type": "markdown",
   "metadata": {},
   "source": [
    "## Load Demonstrations and create Dataset"
   ]
  },
  {
   "cell_type": "code",
   "execution_count": 12,
   "metadata": {},
   "outputs": [
    {
     "name": "stdout",
     "output_type": "stream",
     "text": [
      "Transitions: 14000\n"
     ]
    }
   ],
   "source": [
    "buffer = ReplayBuffer()\n",
    "buffer.load(\"demonstrations.bz2\")\n",
    "print(\"Transitions:\", len(buffer))"
   ]
  },
  {
   "cell_type": "code",
   "execution_count": 13,
   "metadata": {},
   "outputs": [],
   "source": [
    "class BufferDataset(Dataset):\n",
    "    def __init__(self, buffer):\n",
    "        self.buffer = buffer\n",
    "\n",
    "    def __len__(self):\n",
    "        return len(self.buffer)\n",
    "    \n",
    "    def __getitem__(self, index):\n",
    "        sample = self.buffer[index]\n",
    "        state = torch.tensor(sample.state).unsqueeze(dim=0)\n",
    "        _action = sample.action\n",
    "        action = torch.zeros(ACTION_SPACE)\n",
    "        action[_action] = 1.0\n",
    "        return state.to(device), action.to(device)"
   ]
  },
  {
   "cell_type": "code",
   "execution_count": 14,
   "metadata": {},
   "outputs": [
    {
     "name": "stdout",
     "output_type": "stream",
     "text": [
      "(tensor([[[1., 1., 1.,  ..., 1., 1., 1.],\n",
      "         [1., 0., 0.,  ..., 0., 0., 1.],\n",
      "         [1., 0., 0.,  ..., 0., 0., 1.],\n",
      "         ...,\n",
      "         [1., 0., 0.,  ..., 0., 0., 1.],\n",
      "         [1., 0., 0.,  ..., 0., 0., 1.],\n",
      "         [1., 1., 1.,  ..., 1., 1., 1.]]]), tensor([1., 0.]))\n"
     ]
    }
   ],
   "source": [
    "dataset = BufferDataset(buffer)\n",
    "print(dataset.__getitem__(0))"
   ]
  },
  {
   "cell_type": "markdown",
   "metadata": {},
   "source": [
    "## Define Agent and Policy Network"
   ]
  },
  {
   "cell_type": "code",
   "execution_count": 15,
   "metadata": {},
   "outputs": [],
   "source": [
    "class AgentNetwork(nn.Module):\n",
    "    def __init__(self, n_action_space):\n",
    "        super(AgentNetwork, self).__init__()\n",
    "        \n",
    "        # based on LeNet\n",
    "        self.c1 = torch.nn.Conv2d(1, 6, 5)\n",
    "        self.s2 = torch.nn.MaxPool2d(4)\n",
    "        self.c3 = torch.nn.Conv2d(6, 16, 5)\n",
    "        self.s4 = torch.nn.MaxPool2d(2)\n",
    "        self.c5 = torch.nn.Conv2d(16, 120, 5)\n",
    "        self.f6 = torch.nn.Linear(120, n_action_space*5)\n",
    "        self.d7 = torch.nn.Dropout(0.5)\n",
    "        self.out = torch.nn.Linear(n_action_space*5, n_action_space)\n",
    "\n",
    "    def forward(self, x):\n",
    "        x = torch.relu(self.c1(x))\n",
    "        x = self.s2(x)\n",
    "        x = torch.relu(self.c3(x))\n",
    "        x = self.s4(x)\n",
    "        x = torch.relu(self.c5(x))\n",
    "        x = torch.flatten(x, 1)\n",
    "        x = torch.relu(self.f6(x))\n",
    "        x = self.d7(x)\n",
    "        return self.out(x)\n",
    "\n",
    "class Agent():\n",
    "    def __init__(self, model, name = \"Agent\"):\n",
    "        self.name = name\n",
    "        self.model = model\n",
    "        pass\n",
    "    \n",
    "    @staticmethod\n",
    "    def transform(state):\n",
    "        return torch.tensor(state).unsqueeze(0).unsqueeze(0)\n",
    "    \n",
    "    @torch.no_grad()\n",
    "    def act(self, state):\n",
    "        self.model.eval()\n",
    "        state = self.transform(state)\n",
    "        actions = self.model(state).squeeze()\n",
    "        return torch.argmax(actions).item()"
   ]
  },
  {
   "cell_type": "markdown",
   "metadata": {},
   "source": [
    "## Training the Agent"
   ]
  },
  {
   "cell_type": "code",
   "execution_count": 16,
   "metadata": {},
   "outputs": [],
   "source": [
    "class BCTrainer(object):\n",
    "    \"\"\"Behavioral Cloning Trainer class\n",
    "    \"\"\"\n",
    "    \n",
    "    def __init__(self, model, dataloader, loss_func, optimizer):\n",
    "        self.model = model\n",
    "        self.dataloader = dataloader\n",
    "        self.loss_func = loss_func\n",
    "        self.optimizer = optimizer\n",
    "        \n",
    "    def train(self, pbar=None):\n",
    "        self.model.train()\n",
    "        if pbar is None:\n",
    "            pbar = tqdm(range(1))\n",
    "        \n",
    "        losses = []\n",
    "        loader_len = len(self.dataloader)\n",
    "        for i, (states, actions) in enumerate(self.dataloader):\n",
    "            pred = self.model(states)\n",
    "            loss = self.loss_func(pred, actions)\n",
    "            self.optimizer.zero_grad()\n",
    "            loss.backward()\n",
    "            self.optimizer.step()\n",
    "            losses.append(loss.item())\n",
    "            pbar.set_postfix_str(f\"[{i+1}/{loader_len}] Loss: {losses[-1]:.4f}\")\n",
    "        \n",
    "        return losses\n",
    "    \n",
    "    def eval(self):\n",
    "        self.model.eval()\n",
    "        losses = []\n",
    "        loader_len = len(self.dataloader)\n",
    "        for i, (states, actions) in enumerate(self.dataloader):\n",
    "            pred = self.model(states)\n",
    "            loss = self.loss_func(pred, actions)\n",
    "            losses.append(loss.item())\n",
    "        \n",
    "        return losses\n",
    "        \n",
    "            \n",
    "    def run(self, epochs):\n",
    "        avg_losses = np.zeros(epochs+1)\n",
    "        avg_losses[0] = np.mean(self.eval())\n",
    "        with tqdm(range(1, epochs+1)) as pbar:\n",
    "            for e in pbar:\n",
    "                losses = self.train(pbar)\n",
    "                avg_losses[e] = np.mean(losses)\n",
    "        return avg_losses"
   ]
  },
  {
   "cell_type": "code",
   "execution_count": 17,
   "metadata": {},
   "outputs": [],
   "source": [
    "lr = 1e-3\n",
    "batchsize = 250\n",
    "n_epochs = 10"
   ]
  },
  {
   "cell_type": "code",
   "execution_count": 155,
   "metadata": {},
   "outputs": [],
   "source": [
    "np.random.seed(8)\n",
    "torch.manual_seed(8)\n",
    "\n",
    "net = AgentNetwork(ACTION_SPACE).to(device)\n",
    "loss_func = nn.CrossEntropyLoss().to(device)\n",
    "optimizer = optim.Adam(net.parameters(), lr=lr)\n",
    "\n",
    "loader = DataLoader(dataset, batch_size=batchsize, shuffle=True)\n",
    "\n",
    "trainer = BCTrainer(net, loader, loss_func, optimizer)"
   ]
  },
  {
   "cell_type": "code",
   "execution_count": 156,
   "metadata": {},
   "outputs": [
    {
     "data": {
      "application/vnd.jupyter.widget-view+json": {
       "model_id": "2bc4c1e81b1b4384bdd4d5f36d1137f8",
       "version_major": 2,
       "version_minor": 0
      },
      "text/plain": [
       "  0%|          | 0/10 [00:00<?, ?it/s]"
      ]
     },
     "metadata": {},
     "output_type": "display_data"
    },
    {
     "data": {
      "text/plain": [
       "[<matplotlib.lines.Line2D at 0x1fc36c80550>]"
      ]
     },
     "execution_count": 156,
     "metadata": {},
     "output_type": "execute_result"
    },
    {
     "data": {
      "image/png": "[encoded data removed]",
      "text/plain": [
       "<Figure size 640x480 with 1 Axes>"
      ]
     },
     "metadata": {},
     "output_type": "display_data"
    }
   ],
   "source": [
    "losses = trainer.run(n_epochs)\n",
    "plt.plot(losses)"
   ]
  },
  {
   "cell_type": "markdown",
   "metadata": {},
   "source": [
    "## Evaluation of Behavioral Cloning Agent"
   ]
  },
  {
   "cell_type": "code",
   "execution_count": 18,
   "metadata": {},
   "outputs": [],
   "source": [
    "def evaluate_agent(env, agent):\n",
    "    state = env.get_state()\n",
    "    done = False\n",
    "    reward = 0\n",
    "    while not done:\n",
    "        a = agent.act(state)\n",
    "        state, reward, done, _ = env.step(a)\n",
    "    return reward == 2"
   ]
  },
  {
   "cell_type": "code",
   "execution_count": 19,
   "metadata": {},
   "outputs": [],
   "source": [
    "def evaluate_on_random_episodes(env, agent, n_episodes=50):\n",
    "    won = 0\n",
    "    print(agent.name)\n",
    "    with tqdm(range(n_episodes)) as pbar:\n",
    "        for e in pbar:\n",
    "            env.reset()\n",
    "            won += int(evaluate_agent(env, agent))\n",
    "            pbar.set_postfix_str(f\"Won: {won}/{n_episodes}\")\n",
    "    env.close()\n",
    "    return won / n_episodes"
   ]
  },
  {
   "cell_type": "markdown",
   "metadata": {},
   "source": [
    "#### Evaluate on different seed"
   ]
  },
  {
   "cell_type": "code",
   "execution_count": 159,
   "metadata": {},
   "outputs": [
    {
     "name": "stdout",
     "output_type": "stream",
     "text": [
      "Agent\n"
     ]
    },
    {
     "data": {
      "application/vnd.jupyter.widget-view+json": {
       "model_id": "ee67fda063524c259338f0b8da30a856",
       "version_major": 2,
       "version_minor": 0
      },
      "text/plain": [
       "  0%|          | 0/100 [00:00<?, ?it/s]"
      ]
     },
     "metadata": {},
     "output_type": "display_data"
    },
    {
     "name": "stdout",
     "output_type": "stream",
     "text": [
      "100.0% of games won\n"
     ]
    }
   ],
   "source": [
    "n_episodes = 100\n",
    "env = gym_jumping_task.envs.JumpTaskEnv(rendering=True, seed=8)\n",
    "agent = Agent(net)\n",
    "wl_ratio = evaluate_on_random_episodes(env, agent, n_episodes)\n",
    "print(f\"{wl_ratio*100}% of games won\")"
   ]
  },
  {
   "cell_type": "markdown",
   "metadata": {},
   "source": [
    "## Testing with different Demonstration Samplings"
   ]
  },
  {
   "cell_type": "code",
   "execution_count": 110,
   "metadata": {},
   "outputs": [],
   "source": [
    "OBSTACLE_MAX_POSITION = 40-1\n",
    "OBSTACLE_MIN_POSITION = 14\n",
    "RANGE_OBSTACLE_POSITION = OBSTACLE_MAX_POSITION - OBSTACLE_MIN_POSITION\n",
    "RANGE_FLOOR_HEIGHT = 10\n",
    "MAX_SAMPLES = (RANGE_OBSTACLE_POSITION + 1) * (RANGE_FLOOR_HEIGHT + 1)\n",
    "n_samples = 18"
   ]
  },
  {
   "cell_type": "code",
   "execution_count": 111,
   "metadata": {},
   "outputs": [],
   "source": [
    "lr = 3e-3\n",
    "batchsize = 128\n",
    "n_epochs = 100"
   ]
  },
  {
   "cell_type": "code",
   "execution_count": 112,
   "metadata": {},
   "outputs": [],
   "source": [
    "def plot_results(results, training_settings):\n",
    "    #plt.imshow(results)\n",
    "    cmap = colors.ListedColormap(['Blue','red'])\n",
    "    plt.figure(figsize=(RANGE_OBSTACLE_POSITION/4,RANGE_FLOOR_HEIGHT/4))\n",
    "    plt.pcolor(results[::-1],cmap=cmap,edgecolors='k', linewidths=1)\n",
    "    for t in training_settings:\n",
    "        plt.annotate('T', (t['obstacle_position'] - OBSTACLE_MIN_POSITION, t['floor_height']), textcoords=\"offset points\", xytext=(6, 3), ha='center')\n",
    "    plt.show()"
   ]
  },
  {
   "cell_type": "code",
   "execution_count": 113,
   "metadata": {},
   "outputs": [],
   "source": [
    "def evaluate_agent_on_all_episodes(agent: Agent):\n",
    "    env = gym_jumping_task.envs.JumpTaskEnv(rendering=True, seed=8)\n",
    "    results = np.zeros((RANGE_FLOOR_HEIGHT+1, RANGE_OBSTACLE_POSITION+1))\n",
    "    print(agent.name)\n",
    "    with tqdm(total=MAX_SAMPLES) as pbar:\n",
    "        won = 0\n",
    "        for floor_height in range(RANGE_FLOOR_HEIGHT+1):\n",
    "            for obstacle_pos in range(OBSTACLE_MIN_POSITION, OBSTACLE_MAX_POSITION+1):\n",
    "                env._reset(obstacle_position=obstacle_pos, floor_height=floor_height)\n",
    "                result = int(evaluate_agent(env, agent))\n",
    "                results[RANGE_FLOOR_HEIGHT - floor_height, obstacle_pos - OBSTACLE_MIN_POSITION] = result\n",
    "                won += result\n",
    "                \n",
    "                pbar.set_postfix_str(f\"Won: {won}/{MAX_SAMPLES}\")\n",
    "                pbar.update()\n",
    "    env.close()\n",
    "    return results"
   ]
  },
  {
   "cell_type": "code",
   "execution_count": 114,
   "metadata": {},
   "outputs": [],
   "source": [
    "def test_sampling_strategy(demonstrations: ReplayBuffer, agent_name=\"Agent\"):\n",
    "    \n",
    "    np.random.seed(8)\n",
    "    torch.manual_seed(8)\n",
    "\n",
    "    dataset = BufferDataset(demonstrations)\n",
    "\n",
    "    net = AgentNetwork(ACTION_SPACE).to(device)\n",
    "    loss_func = nn.CrossEntropyLoss().to(device)\n",
    "    optimizer = optim.Adam(net.parameters(), lr=lr)\n",
    "\n",
    "    loader = DataLoader(dataset, batch_size=batchsize, shuffle=True)\n",
    "\n",
    "    trainer = BCTrainer(net, loader, loss_func, optimizer)\n",
    "    \n",
    "    losses = trainer.run(n_epochs)\n",
    "    plt.yscale('log')\n",
    "    plt.plot(losses)\n",
    "    plt.show()\n",
    "    \n",
    "    agent = Agent(net, agent_name)\n",
    "    return evaluate_agent_on_all_episodes(agent)\n"
   ]
  },
  {
   "cell_type": "code",
   "execution_count": 115,
   "metadata": {},
   "outputs": [],
   "source": [
    "def sample_demonstrations(args_per_episodes):\n",
    "    env = gym_jumping_task.envs.JumpTaskEnv()\n",
    "    expert = Expert(env)\n",
    "    buffer = ReplayBuffer()\n",
    "    n_episodes = len(args_per_episodes)\n",
    "    for e in tqdm(range(n_episodes)):\n",
    "        episode = []\n",
    "        args = args_per_episodes[e]\n",
    "        state = env._reset(**args)\n",
    "        done = False\n",
    "        while not done:\n",
    "            a = expert.select_action()\n",
    "            episode.append(Transition(state, a))\n",
    "            state, reward, done, _ = env.step(a)\n",
    "        if reward == -1:\n",
    "            print(\"[WARN] GAME LOST\")\n",
    "        buffer.add(episode)\n",
    "    env.close()\n",
    "    print(\"Transitions:\", len(buffer))\n",
    "    return buffer"
   ]
  },
  {
   "cell_type": "code",
   "execution_count": 134,
   "metadata": {},
   "outputs": [],
   "source": [
    "def sample_settings(n_samples, offset = 0, spacing = 4, samples_per_row = 6):\n",
    "    settings = []\n",
    "    if type(offset) is int:\n",
    "        offset = (offset, offset)\n",
    "    for floor_height in range(offset[1], RANGE_FLOOR_HEIGHT+1, spacing+1):\n",
    "        row_samples = 0\n",
    "        for obstacle_pos in range(OBSTACLE_MIN_POSITION + offset[0], OBSTACLE_MAX_POSITION+1, spacing+1):\n",
    "            settings.append({\n",
    "                'floor_height': RANGE_FLOOR_HEIGHT - floor_height,\n",
    "                'obstacle_position': obstacle_pos\n",
    "            })\n",
    "            row_samples += 1\n",
    "            if row_samples == samples_per_row:\n",
    "                break\n",
    "        if len(settings) == n_samples:\n",
    "            break\n",
    "    return settings"
   ]
  },
  {
   "cell_type": "code",
   "execution_count": null,
   "metadata": {},
   "outputs": [],
   "source": []
  },
  {
   "cell_type": "markdown",
   "metadata": {},
   "source": [
    "### Wide Sampling\n",
    "```\n",
    "T * * T * * T\n",
    "* * * * * * *\n",
    "* * * * * * *\n",
    "T * * T * * T\n",
    "* * * * * * *\n",
    "* * * * * * *\n",
    "T * * T * * T\n",
    "```"
   ]
  },
  {
   "cell_type": "code",
   "execution_count": 135,
   "metadata": {},
   "outputs": [
    {
     "name": "stdout",
     "output_type": "stream",
     "text": [
      "[{'floor_height': 10, 'obstacle_position': 14}, {'floor_height': 10, 'obstacle_position': 19}, {'floor_height': 10, 'obstacle_position': 24}, {'floor_height': 10, 'obstacle_position': 29}, {'floor_height': 10, 'obstacle_position': 34}, {'floor_height': 10, 'obstacle_position': 39}, {'floor_height': 5, 'obstacle_position': 14}, {'floor_height': 5, 'obstacle_position': 19}, {'floor_height': 5, 'obstacle_position': 24}, {'floor_height': 5, 'obstacle_position': 29}, {'floor_height': 5, 'obstacle_position': 34}, {'floor_height': 5, 'obstacle_position': 39}, {'floor_height': 0, 'obstacle_position': 14}, {'floor_height': 0, 'obstacle_position': 19}, {'floor_height': 0, 'obstacle_position': 24}, {'floor_height': 0, 'obstacle_position': 29}, {'floor_height': 0, 'obstacle_position': 34}, {'floor_height': 0, 'obstacle_position': 39}]\n"
     ]
    }
   ],
   "source": [
    "wide_sampling_settings = sample_settings(n_samples, spacing=4, samples_per_row=6)\n",
    "print(wide_sampling_settings)"
   ]
  },
  {
   "cell_type": "code",
   "execution_count": 136,
   "metadata": {},
   "outputs": [
    {
     "data": {
      "application/vnd.jupyter.widget-view+json": {
       "model_id": "76aec5234800452eb3ba12c4a7c23fcf",
       "version_major": 2,
       "version_minor": 0
      },
      "text/plain": [
       "  0%|          | 0/18 [00:00<?, ?it/s]"
      ]
     },
     "metadata": {},
     "output_type": "display_data"
    },
    {
     "name": "stdout",
     "output_type": "stream",
     "text": [
      "Transitions: 1008\n"
     ]
    }
   ],
   "source": [
    "wide_demonstrations = sample_demonstrations(wide_sampling_settings)\n"
   ]
  },
  {
   "cell_type": "code",
   "execution_count": 137,
   "metadata": {},
   "outputs": [
    {
     "data": {
      "application/vnd.jupyter.widget-view+json": {
       "model_id": "cd326201b4d546149c6a2150958d9595",
       "version_major": 2,
       "version_minor": 0
      },
      "text/plain": [
       "  0%|          | 0/100 [00:00<?, ?it/s]"
      ]
     },
     "metadata": {},
     "output_type": "display_data"
    },
    {
     "data": {
      "image/png": "[encoded data removed]",
      "text/plain": [
       "<Figure size 640x480 with 1 Axes>"
      ]
     },
     "metadata": {},
     "output_type": "display_data"
    },
    {
     "name": "stdout",
     "output_type": "stream",
     "text": [
      "Wide Agent\n"
     ]
    },
    {
     "data": {
      "application/vnd.jupyter.widget-view+json": {
       "model_id": "642fb39d8aa14aaca37bfed29988756b",
       "version_major": 2,
       "version_minor": 0
      },
      "text/plain": [
       "  0%|          | 0/286 [00:00<?, ?it/s]"
      ]
     },
     "metadata": {},
     "output_type": "display_data"
    }
   ],
   "source": [
    "wide_results = test_sampling_strategy(wide_demonstrations, \"Wide Agent\")"
   ]
  },
  {
   "cell_type": "code",
   "execution_count": 138,
   "metadata": {},
   "outputs": [
    {
     "data": {
      "image/png": "[encoded data removed]",
      "text/plain": [
       "<Figure size 625x250 with 1 Axes>"
      ]
     },
     "metadata": {},
     "output_type": "display_data"
    }
   ],
   "source": [
    "plot_results(wide_results, wide_sampling_settings)"
   ]
  },
  {
   "cell_type": "markdown",
   "metadata": {},
   "source": [
    "### Narrow Sampling\n",
    "```\n",
    "* * * * * * *\n",
    "* T * T * T *\n",
    "* * * * * * *\n",
    "* T * T * T *\n",
    "* * * * * * *\n",
    "* T * T * T *\n",
    "* * * * * * *\n",
    "```"
   ]
  },
  {
   "cell_type": "code",
   "execution_count": 139,
   "metadata": {},
   "outputs": [
    {
     "name": "stdout",
     "output_type": "stream",
     "text": [
      "[{'floor_height': 7, 'obstacle_position': 22}, {'floor_height': 7, 'obstacle_position': 24}, {'floor_height': 7, 'obstacle_position': 26}, {'floor_height': 7, 'obstacle_position': 28}, {'floor_height': 7, 'obstacle_position': 30}, {'floor_height': 7, 'obstacle_position': 32}, {'floor_height': 5, 'obstacle_position': 22}, {'floor_height': 5, 'obstacle_position': 24}, {'floor_height': 5, 'obstacle_position': 26}, {'floor_height': 5, 'obstacle_position': 28}, {'floor_height': 5, 'obstacle_position': 30}, {'floor_height': 5, 'obstacle_position': 32}, {'floor_height': 3, 'obstacle_position': 22}, {'floor_height': 3, 'obstacle_position': 24}, {'floor_height': 3, 'obstacle_position': 26}, {'floor_height': 3, 'obstacle_position': 28}, {'floor_height': 3, 'obstacle_position': 30}, {'floor_height': 3, 'obstacle_position': 32}]\n"
     ]
    }
   ],
   "source": [
    "narrow_sampling_settings = sample_settings(n_samples, offset=(8,3), spacing=1, samples_per_row=6)\n",
    "print(narrow_sampling_settings)"
   ]
  },
  {
   "cell_type": "code",
   "execution_count": 140,
   "metadata": {},
   "outputs": [
    {
     "data": {
      "application/vnd.jupyter.widget-view+json": {
       "model_id": "d6d7073456d44ac3af18db4cb9f8702a",
       "version_major": 2,
       "version_minor": 0
      },
      "text/plain": [
       "  0%|          | 0/18 [00:00<?, ?it/s]"
      ]
     },
     "metadata": {},
     "output_type": "display_data"
    },
    {
     "name": "stdout",
     "output_type": "stream",
     "text": [
      "Transitions: 1008\n"
     ]
    }
   ],
   "source": [
    "narrow_sampling_demonstrations = sample_demonstrations(narrow_sampling_settings)"
   ]
  },
  {
   "cell_type": "code",
   "execution_count": 141,
   "metadata": {},
   "outputs": [
    {
     "data": {
      "application/vnd.jupyter.widget-view+json": {
       "model_id": "d90960962bf5413496fe86e026e6069c",
       "version_major": 2,
       "version_minor": 0
      },
      "text/plain": [
       "  0%|          | 0/100 [00:00<?, ?it/s]"
      ]
     },
     "metadata": {},
     "output_type": "display_data"
    },
    {
     "data": {
      "image/png": "[encoded data removed]",
      "text/plain": [
       "<Figure size 640x480 with 1 Axes>"
      ]
     },
     "metadata": {},
     "output_type": "display_data"
    },
    {
     "name": "stdout",
     "output_type": "stream",
     "text": [
      "Narrow Agent\n"
     ]
    },
    {
     "data": {
      "application/vnd.jupyter.widget-view+json": {
       "model_id": "474967885bf643e7a56f6aa573bed0db",
       "version_major": 2,
       "version_minor": 0
      },
      "text/plain": [
       "  0%|          | 0/286 [00:00<?, ?it/s]"
      ]
     },
     "metadata": {},
     "output_type": "display_data"
    }
   ],
   "source": [
    "narrow_results = test_sampling_strategy(narrow_sampling_demonstrations, \"Narrow Agent\")"
   ]
  },
  {
   "cell_type": "code",
   "execution_count": 142,
   "metadata": {},
   "outputs": [
    {
     "data": {
      "image/png": "[encoded data removed]",
      "text/plain": [
       "<Figure size 625x250 with 1 Axes>"
      ]
     },
     "metadata": {},
     "output_type": "display_data"
    }
   ],
   "source": [
    "plot_results(narrow_results, narrow_sampling_settings)"
   ]
  },
  {
   "cell_type": "markdown",
   "metadata": {},
   "source": [
    "### Random Sampling\n",
    "```\n",
    "* T * * * T *\n",
    "* * T * * * *\n",
    "* * * * * * *\n",
    "* T * T * * *\n",
    "* * * * T * *\n",
    "* * * * * T T\n",
    "* * T * * * *\n",
    "```"
   ]
  },
  {
   "cell_type": "code",
   "execution_count": 143,
   "metadata": {},
   "outputs": [],
   "source": [
    "def random_settings(n_samples):\n",
    "    settings = []\n",
    "    rnds = np.random.choice(MAX_SAMPLES, size=n_samples, replace=False)\n",
    "    for n in rnds:\n",
    "        settings.append({\n",
    "                'floor_height': n // (RANGE_OBSTACLE_POSITION+1),\n",
    "                'obstacle_position': n % (RANGE_OBSTACLE_POSITION+1) + OBSTACLE_MIN_POSITION\n",
    "        })\n",
    "    return settings"
   ]
  },
  {
   "cell_type": "code",
   "execution_count": 144,
   "metadata": {},
   "outputs": [
    {
     "name": "stdout",
     "output_type": "stream",
     "text": [
      "[{'floor_height': 7, 'obstacle_position': 23}, {'floor_height': 1, 'obstacle_position': 29}, {'floor_height': 8, 'obstacle_position': 26}, {'floor_height': 4, 'obstacle_position': 33}, {'floor_height': 9, 'obstacle_position': 21}, {'floor_height': 1, 'obstacle_position': 16}, {'floor_height': 10, 'obstacle_position': 21}, {'floor_height': 5, 'obstacle_position': 14}, {'floor_height': 8, 'obstacle_position': 30}, {'floor_height': 0, 'obstacle_position': 29}, {'floor_height': 3, 'obstacle_position': 27}, {'floor_height': 6, 'obstacle_position': 28}, {'floor_height': 4, 'obstacle_position': 34}, {'floor_height': 5, 'obstacle_position': 34}, {'floor_height': 9, 'obstacle_position': 20}, {'floor_height': 9, 'obstacle_position': 19}, {'floor_height': 10, 'obstacle_position': 26}, {'floor_height': 1, 'obstacle_position': 38}]\n"
     ]
    }
   ],
   "source": [
    "np.random.seed(22)\n",
    "rnd_sampling_settings = random_settings(n_samples)\n",
    "print(rnd_sampling_settings)"
   ]
  },
  {
   "cell_type": "code",
   "execution_count": 145,
   "metadata": {},
   "outputs": [
    {
     "data": {
      "application/vnd.jupyter.widget-view+json": {
       "model_id": "a974e8d7fa3f428c875453d0b53a9c29",
       "version_major": 2,
       "version_minor": 0
      },
      "text/plain": [
       "  0%|          | 0/18 [00:00<?, ?it/s]"
      ]
     },
     "metadata": {},
     "output_type": "display_data"
    },
    {
     "name": "stdout",
     "output_type": "stream",
     "text": [
      "Transitions: 1008\n"
     ]
    }
   ],
   "source": [
    "rnd_sampling_demonstrations = sample_demonstrations(rnd_sampling_settings)"
   ]
  },
  {
   "cell_type": "code",
   "execution_count": 146,
   "metadata": {},
   "outputs": [
    {
     "data": {
      "application/vnd.jupyter.widget-view+json": {
       "model_id": "d97512fa988041daaad726702700d466",
       "version_major": 2,
       "version_minor": 0
      },
      "text/plain": [
       "  0%|          | 0/100 [00:00<?, ?it/s]"
      ]
     },
     "metadata": {},
     "output_type": "display_data"
    },
    {
     "data": {
      "image/png": "[encoded data removed]",
      "text/plain": [
       "<Figure size 640x480 with 1 Axes>"
      ]
     },
     "metadata": {},
     "output_type": "display_data"
    },
    {
     "name": "stdout",
     "output_type": "stream",
     "text": [
      "Random Sampling Agent\n"
     ]
    },
    {
     "data": {
      "application/vnd.jupyter.widget-view+json": {
       "model_id": "b14a889376dd46a7a3e5a4df99d5b76b",
       "version_major": 2,
       "version_minor": 0
      },
      "text/plain": [
       "  0%|          | 0/286 [00:00<?, ?it/s]"
      ]
     },
     "metadata": {},
     "output_type": "display_data"
    }
   ],
   "source": [
    "rnd_results = test_sampling_strategy(rnd_sampling_demonstrations, \"Random Sampling Agent\")"
   ]
  },
  {
   "cell_type": "code",
   "execution_count": 147,
   "metadata": {},
   "outputs": [
    {
     "data": {
      "image/png": "[encoded data removed]",
      "text/plain": [
       "<Figure size 625x250 with 1 Axes>"
      ]
     },
     "metadata": {},
     "output_type": "display_data"
    }
   ],
   "source": [
    "plot_results(rnd_results, rnd_sampling_settings)"
   ]
  },
  {
   "cell_type": "markdown",
   "metadata": {},
   "source": [
    "### Mixed Sampling (Narrow and Wide)"
   ]
  },
  {
   "cell_type": "code",
   "execution_count": 148,
   "metadata": {},
   "outputs": [
    {
     "name": "stdout",
     "output_type": "stream",
     "text": [
      "[{'floor_height': 10, 'obstacle_position': 14}, {'floor_height': 10, 'obstacle_position': 19}, {'floor_height': 10, 'obstacle_position': 24}, {'floor_height': 10, 'obstacle_position': 29}, {'floor_height': 10, 'obstacle_position': 34}, {'floor_height': 10, 'obstacle_position': 39}, {'floor_height': 5, 'obstacle_position': 17}, {'floor_height': 5, 'obstacle_position': 19}, {'floor_height': 5, 'obstacle_position': 21}, {'floor_height': 5, 'obstacle_position': 23}, {'floor_height': 5, 'obstacle_position': 25}, {'floor_height': 5, 'obstacle_position': 27}, {'floor_height': 0, 'obstacle_position': 14}, {'floor_height': 0, 'obstacle_position': 19}, {'floor_height': 0, 'obstacle_position': 24}, {'floor_height': 0, 'obstacle_position': 29}, {'floor_height': 0, 'obstacle_position': 34}, {'floor_height': 0, 'obstacle_position': 39}]\n"
     ]
    }
   ],
   "source": [
    "mixed_sampling_settings = []\n",
    "adj_nss = sample_settings(n_samples, offset=(3,3), spacing=1, samples_per_row=6)\n",
    "for n in range(0, len(wide_sampling_settings), 6):\n",
    "    if (n // 6 % 2) == 0:\n",
    "        mixed_sampling_settings.extend(wide_sampling_settings[n:n+6])\n",
    "    else:\n",
    "        #mixed_sampling_settings.extend(narrow_sampling_settings[n:n+6])\n",
    "        mixed_sampling_settings.extend(adj_nss[n:n+6])\n",
    "print(mixed_sampling_settings)"
   ]
  },
  {
   "cell_type": "code",
   "execution_count": 149,
   "metadata": {},
   "outputs": [
    {
     "data": {
      "application/vnd.jupyter.widget-view+json": {
       "model_id": "c549f643a88c4c94b0e133d10298660f",
       "version_major": 2,
       "version_minor": 0
      },
      "text/plain": [
       "  0%|          | 0/18 [00:00<?, ?it/s]"
      ]
     },
     "metadata": {},
     "output_type": "display_data"
    },
    {
     "name": "stdout",
     "output_type": "stream",
     "text": [
      "Transitions: 1008\n"
     ]
    }
   ],
   "source": [
    "mixed_sampling_demonstrations = sample_demonstrations(mixed_sampling_settings)"
   ]
  },
  {
   "cell_type": "code",
   "execution_count": 150,
   "metadata": {},
   "outputs": [
    {
     "data": {
      "application/vnd.jupyter.widget-view+json": {
       "model_id": "60289464f56944da8f0f4785e0358a0a",
       "version_major": 2,
       "version_minor": 0
      },
      "text/plain": [
       "  0%|          | 0/100 [00:00<?, ?it/s]"
      ]
     },
     "metadata": {},
     "output_type": "display_data"
    },
    {
     "data": {
      "image/png": "[encoded data removed]",
      "text/plain": [
       "<Figure size 640x480 with 1 Axes>"
      ]
     },
     "metadata": {},
     "output_type": "display_data"
    },
    {
     "name": "stdout",
     "output_type": "stream",
     "text": [
      "Mixed Sampling Agent\n"
     ]
    },
    {
     "data": {
      "application/vnd.jupyter.widget-view+json": {
       "model_id": "5605f2b2aa5b42b0b61cea43aa836da5",
       "version_major": 2,
       "version_minor": 0
      },
      "text/plain": [
       "  0%|          | 0/286 [00:00<?, ?it/s]"
      ]
     },
     "metadata": {},
     "output_type": "display_data"
    }
   ],
   "source": [
    "mixed_results = test_sampling_strategy(mixed_sampling_demonstrations, \"Mixed Sampling Agent\")"
   ]
  },
  {
   "cell_type": "code",
   "execution_count": 151,
   "metadata": {},
   "outputs": [
    {
     "data": {
      "image/png": "[encoded data removed]",
      "text/plain": [
       "<Figure size 625x250 with 1 Axes>"
      ]
     },
     "metadata": {},
     "output_type": "display_data"
    }
   ],
   "source": [
    "plot_results(mixed_results, mixed_sampling_settings)"
   ]
  },
  {
   "cell_type": "code",
   "execution_count": null,
   "metadata": {},
   "outputs": [],
   "source": []
  }
 ],
 "metadata": {
  "kernelspec": {
   "display_name": "Python 3.8.8 ('base')",
   "language": "python",
   "name": "python3"
  },
  "language_info": {
   "codemirror_mode": {
    "name": "ipython",
    "version": 3
   },
   "file_extension": ".py",
   "mimetype": "text/x-python",
   "name": "python",
   "nbconvert_exporter": "python",
   "pygments_lexer": "ipython3",
   "version": "3.8.8"
  },
  "orig_nbformat": 4,
  "vscode": {
   "interpreter": {
    "hash": "46d7f8e2fb6de0d48818e7e4142342fa23f3a8704131dfe3fc9fa223bc303aad"
   }
  }
 },
 "nbformat": 4,
 "nbformat_minor": 2
}
